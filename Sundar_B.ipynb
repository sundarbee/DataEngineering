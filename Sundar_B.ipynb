{
  "cells": [
    {
      "cell_type": "markdown",
      "metadata": {
        "id": "view-in-github",
        "colab_type": "text"
      },
      "source": [
        "<a href=\"https://colab.research.google.com/github/sundarbee/DataEngineering/blob/master/Sundar_B.ipynb\" target=\"_parent\"><img src=\"https://colab.research.google.com/assets/colab-badge.svg\" alt=\"Open In Colab\"/></a>"
      ]
    },
    {
      "cell_type": "markdown",
      "id": "f38ed309",
      "metadata": {
        "id": "f38ed309"
      },
      "source": [
        "# 📝 DS & Stats Examination — Application Oriented\n",
        "**Time:** 60 minutes  **Total:** 6 Questions (equal marks)\n",
        "\n",
        "**Rules**\n",
        "- Write clean, commented code below each question.\n",
        "- Allowed: Python, NumPy, Pandas, Matplotlib, SciPy (if needed).\n",
        "- Do not rename variables provided in examples.\n",
        "- Print exactly what is asked in **Expected Output**.\n"
      ]
    },
    {
      "cell_type": "markdown",
      "id": "3cb34165",
      "metadata": {
        "id": "3cb34165"
      },
      "source": [
        "## Q1) Banking — ATM Transactions Tracker (Lists)\n",
        "**Scenario.** Track ATM transactions and running balance.\n",
        "\n",
        "**Constraints**\n",
        "- `transactions`: positive = deposit, negative = withdrawal.\n",
        "- Print: `Balance after X = Y` after each transaction.\n",
        "- At the end, print `Total deposits = ...` and `Total withdrawals = ...` (withdrawals sum will be negative).\n",
        "\n",
        "**Example Input**\n",
        "```python\n",
        "transactions = [500, -200, -100, 1000, -50]\n",
        "```\n",
        "**Expected Output**\n",
        "```\n",
        "Balance after 500 = 500\n",
        "Balance after -200 = 300\n",
        "Balance after -100 = 200\n",
        "Balance after 1000 = 1200\n",
        "Balance after -50 = 1150\n",
        "Total deposits = 1500\n",
        "Total withdrawals = -350\n",
        "```"
      ]
    },
    {
      "cell_type": "code",
      "execution_count": 12,
      "id": "18669f86",
      "metadata": {
        "colab": {
          "base_uri": "https://localhost:8080/"
        },
        "id": "18669f86",
        "outputId": "32173ca1-6eff-48dc-cffd-2d75a15c2f2b"
      },
      "outputs": [
        {
          "output_type": "stream",
          "name": "stdout",
          "text": [
            "Balance after 500,500\n",
            "Balance after -200,300\n",
            "Balance after -100,200\n",
            "Balance after 1000,1200\n",
            "Balance after -50,1150\n",
            "total_deposit 1500\n",
            "total_withdrawal -350\n"
          ]
        }
      ],
      "source": [
        "from re import I\n",
        "balance = 0\n",
        "total_deposit=0\n",
        "total_withdrawal=0\n",
        "transactions = [500, -200, -100, 1000, -50]\n",
        "for i in transactions:\n",
        "  balance = balance+i\n",
        "  print(f\"Balance after {i},{balance}\")\n",
        "  if i > 0:\n",
        "    total_deposit=total_deposit + i\n",
        "  else:\n",
        "    total_withdrawal = total_withdrawal + i\n",
        "\n",
        "print('total_deposit',total_deposit)\n",
        "print('total_withdrawal',total_withdrawal)\n",
        "\n"
      ]
    },
    {
      "cell_type": "markdown",
      "id": "88245ab1",
      "metadata": {
        "id": "88245ab1"
      },
      "source": [
        "## Q2) HR/Payroll — Employees & Interns\n",
        "**Scenario.** A company maintains basic employee details and needs a quick **eligibility check for performance bonus**.\n",
        "\n",
        "**Constraints**\n",
        "- Base class `Employee(name, age, salary)`\n",
        "- Subclass `Intern(name, age, stipend)` (store stipend in `salary` for reuse)\n",
        "- Method `eligible_for_bonus(min_salary, min_years)` returns `True` if `salary ≥ min_salary` **and** `years_of_service ≥ min_years`.\n",
        "- For this exam, assume:\n",
        "  - Alice: age=28, salary=50000, years_of_service=3\n",
        "  - Bob:   age=26, stipend=32000 (as salary), years_of_service=0\n",
        "  - `min_salary = 40000`, `min_years = 1`\n",
        "- Print one line per person: `name age salary years_of_service eligible` (keep two spaces before Bob to match example).\n",
        "\n",
        "**Expected Output**\n",
        "```\n",
        "Alice 28 50000.0 10.0 True\n",
        "Bob  26 32000.0 0.0  False\n",
        "```"
      ]
    },
    {
      "cell_type": "code",
      "execution_count": 20,
      "id": "a62a560a",
      "metadata": {
        "colab": {
          "base_uri": "https://localhost:8080/"
        },
        "id": "a62a560a",
        "outputId": "43b2534f-df11-4997-a3ff-9c59e24bca24"
      },
      "outputs": [
        {
          "output_type": "stream",
          "name": "stdout",
          "text": [
            "Alice 28 50000.0 10.0 True\n",
            "Bob  26 32000.0 0.0  False\n"
          ]
        }
      ],
      "source": [
        "class Employee:\n",
        "    def __init__(self, name, age, salary, years_of_service):\n",
        "        self.name = name\n",
        "        self.age = age\n",
        "        self.salary = float(salary)\n",
        "        self.years_of_service = float(years_of_service)\n",
        "\n",
        "    def eligible_for_bonus(self, min_salary, min_years):\n",
        "        return self.salary >= min_salary and self.years_of_service >= min_years\n",
        "\n",
        "class Intern(Employee):\n",
        "    def __init__(self, name, age, stipend):\n",
        "        super().__init__(name, age, stipend, 0)\n",
        "# Data and constraints\n",
        "min_salary = 40000\n",
        "min_years = 1\n",
        "\n",
        "# Create objects\n",
        "alice = Employee(\"Alice\", 28, 50000, 10)\n",
        "bob = Intern(\"Bob\", 26, 32000)\n",
        "\n",
        "print(f\"{alice.name} {alice.age} {alice.salary} {alice.years_of_service} {alice.eligible_for_bonus(min_salary, min_years)}\")\n",
        "print(f\"{bob.name}  {bob.age} {bob.salary} {bob.years_of_service}  {bob.eligible_for_bonus(min_salary, min_years)}\")\n",
        "\n",
        ""
      ]
    },
    {
      "cell_type": "markdown",
      "id": "47868d9a",
      "metadata": {
        "id": "47868d9a"
      },
      "source": [
        "## Q3) Retail Analytics — Daily Footfall (Visualization)\n",
        "**Scenario.** A store wants to visualize daily **visitor counts**.\n",
        "\n",
        "**Constraints**\n",
        "- Plot a chart.\n",
        "- Title: `Daily Footfall` X: `Day` Y: `Visitors`\n",
        "- Annotate the **highest** day with its value.\n",
        "\n",
        "**Data**\n",
        "```python\n",
        "days = ['Mon','Tue','Wed','Thu','Fri','Sat','Sun']\n",
        "visitors = [120, 135, 210, 190, 160, 90, 70]\n",
        "```\n",
        "**Expected Output (Description)**\n",
        "```\n",
        "A chart titled 'Daily Footfall' with 'Day' 'Visitors'.\n",
        "The highest day is annotated with its exact value.\n",
        "```"
      ]
    },
    {
      "cell_type": "code",
      "execution_count": 31,
      "id": "2cf45447",
      "metadata": {
        "colab": {
          "base_uri": "https://localhost:8080/",
          "height": 559
        },
        "id": "2cf45447",
        "outputId": "f9321f61-3dd2-4257-96f7-d5e4abfcbbc6"
      },
      "outputs": [
        {
          "output_type": "stream",
          "name": "stdout",
          "text": [
            "210\n",
            "2\n",
            "Wed\n"
          ]
        },
        {
          "output_type": "display_data",
          "data": {
            "text/plain": [
              "<Figure size 800x500 with 1 Axes>"
            ],
            "image/png": "[encoded data removed]"
          },
          "metadata": {}
        }
      ],
      "source": [
        "import matplotlib.pyplot as plt\n",
        "\n",
        "days = ['Mon','Tue','Wed','Thu','Fri','Sat','Sun']\n",
        "visitors = [120, 135, 210, 190, 160, 90, 70]\n",
        "\n",
        "plt.figure(figsize=(8,5))\n",
        "plt.plot(days,visitors,marker='o',linestyle='-',color='blue')\n",
        "\n",
        "plt.title('Daily Footfall')\n",
        "plt.xlabel('Days')\n",
        "plt.ylabel('Visitors')\n",
        "\n",
        "max_visitors = max(visitors)\n",
        "print(max_visitors)\n",
        "max_index =  visitors.index(max_visitors)\n",
        "print(max_index)\n",
        "max_day = days[max_index]\n",
        "print(max_day)\n",
        "\n",
        "plt.annotate(\n",
        "    f'{max_visitors}',\n",
        "    xy = (max_day,max_visitors),\n",
        "    ha = 'center',\n",
        "    arrowprops=dict(facecolor='red',shrink=0.05)\n",
        ")\n",
        "\n",
        "plt.grid(True)\n",
        "plt.tight_layout()\n",
        "plt.show()"
      ]
    },
    {
      "cell_type": "markdown",
      "id": "39f3b63e",
      "metadata": {
        "id": "39f3b63e"
      },
      "source": [
        "## Q4) Manufacturing QC — Summary Stats & IQR Outliers (Pandas)\n",
        "**Scenario.** A factory measures the **diameter (mm)** of sample parts each hour; an occasional faulty reading is present.\n",
        "\n",
        "**Constraints**\n",
        "- Implement functions: `summarize(series)` and `iqr_outliers(series)`.\n",
        "- `summarize` returns a dict with: mean, median, mode (smallest if tie), variance, std, q1, q3, iqr. Use **sample** variance/std (`ddof=1`).\n",
        "- `iqr_outliers` returns a **sorted list** of outlier values using Q1−1.5×IQR and Q3+1.5×IQR.\n",
        "\n",
        "**Data**\n",
        "```python\n",
        "import pandas as pd\n",
        "diameter = pd.Series([4, 5, 6, 7, 5, 6, 12])\n",
        "```\n",
        "**Expected Output**\n",
        "```\n",
        "Summary:\n",
        "{'mean': 5.75, 'median': 5.5, 'mode': 5.0, 'variance': 5.3666..., 'std': 2.3166..., 'q1': 4.5, 'q3': 7.0, 'iqr': 2.5}\n",
        "IQR outliers: [12.0]\n",
        "```"
      ]
    },
    {
      "cell_type": "code",
      "execution_count": 39,
      "id": "b9ef2e3a",
      "metadata": {
        "colab": {
          "base_uri": "https://localhost:8080/"
        },
        "id": "b9ef2e3a",
        "outputId": "8dcf9292-0b47-4444-85f7-b9d3efe2e579"
      },
      "outputs": [
        {
          "output_type": "stream",
          "name": "stdout",
          "text": [
            "Summary:\n",
            "{'mean': np.float64(6.428571428571429), 'median': 6.0, 'mode': np.int64(5), 'variance': 6.9523809523809526, 'std': 2.63673679998231, 'q1': np.float64(5.0), 'q3': np.float64(6.5), 'iqr': np.float64(1.5)}\n",
            "IQR outliers: [12]\n"
          ]
        }
      ],
      "source": [
        "import pandas as pd\n",
        "import numpy as np\n",
        "import scipy as stats\n",
        "\n",
        "def summarize(values):\n",
        "  mean = values.mean()\n",
        "  median = values.median()\n",
        "  mode = values.mode().iloc[0]\n",
        "  variance = values.var(ddof=1)\n",
        "  std = values.std(ddof=1)\n",
        "  q1 = values.quantile(0.25)\n",
        "  q3 = values.quantile(0.75)\n",
        "  iqr = q3 - q1\n",
        "\n",
        "  return {\n",
        "      'mean': mean,\n",
        "      'median': median,\n",
        "      'mode': mode,\n",
        "      'variance': variance,\n",
        "      'std': std,\n",
        "      'q1': q1,\n",
        "      'q3': q3,\n",
        "      'iqr': iqr\n",
        "  }\n",
        "\n",
        "def iqr_outliers(values):\n",
        "  q1 = values.quantile(0.25)\n",
        "  q3 = values.quantile(0.75)\n",
        "\n",
        "  iqr = q3-q1\n",
        "  lower_bound = q1-1.5 * iqr\n",
        "  upper_bound = q3+1.5 * iqr\n",
        "\n",
        "  outliers = values[(values < lower_bound) | (values > upper_bound)].sort_values().tolist()\n",
        "  return outliers\n",
        "\n",
        "diameter = pd.Series([4, 5, 6, 7, 5, 6, 12])\n",
        "summary = summarize(diameter)\n",
        "print(\"Summary:\")\n",
        "print(summary)\n",
        "\n",
        "# Get IQR outliers\n",
        "outliers = iqr_outliers(diameter)\n",
        "print(\"IQR outliers:\", outliers)\n",
        "\n"
      ]
    },
    {
      "cell_type": "markdown",
      "id": "195d0f74",
      "metadata": {
        "id": "195d0f74"
      },
      "source": [
        "## Q5) Marketing Analytics — Z-Scores, Correlation & Outlier Rows (Pandas)\n",
        "**Scenario.** A small campaign report includes **leads**, **ad spend**, and **conversions**; one day is an outlier.\n",
        "\n",
        "**Constraints**\n",
        "- For each numeric column, add z-score (`*_z`) using population std (`ddof=0`); if std=0, set z=0.\n",
        "- Print the correlation matrix for numeric columns (rounded to 4 decimals).\n",
        "- Using IQR per numeric column, print sorted unique **row indices** outlying in **any** numeric column.\n",
        "\n",
        "**Data**\n",
        "```python\n",
        "import pandas as pd\n",
        "df = pd.DataFrame({\n",
        "    'lead':  [10, 12, 13, 60, 14, 12],\n",
        "    'spend': [100,120,140,600,150,130],\n",
        "    'conv':  [  1,  1,  2,  9,   2,  1]\n",
        "})\n",
        "```\n",
        "**Expected Output**\n",
        "```\n",
        "Added z-score columns: ['lead_z', 'spend_z', 'conv_z']\n",
        "\n",
        "Correlation (numeric only):\n",
        "           lead   spend    conv\n",
        "lead    1.0000   0.9824   0.9782\n",
        "spend   0.9824   1.0000   0.9930\n",
        "conv    0.9782   0.9930   1.0000\n",
        "\n",
        "Outlier row indices (any numeric column): [3]\n",
        "```"
      ]
    },
    {
      "cell_type": "code",
      "execution_count": 50,
      "id": "5adb2177",
      "metadata": {
        "colab": {
          "base_uri": "https://localhost:8080/"
        },
        "id": "5adb2177",
        "outputId": "0162561e-7c6b-458c-9203-d7547c104a54"
      },
      "outputs": [
        {
          "output_type": "stream",
          "name": "stdout",
          "text": [
            "Added z-score columns: ['lead_z', 'spend_z', 'conv_z', 'lead_z_z', 'spend_z_z', 'conv_z_z']\n",
            "\n",
            " Correlation (numeric):\n",
            "           lead   spend   conv  lead_z  spend_z  conv_z\n",
            "lead     1.0000  0.9997  0.994  1.0000   0.9997   0.994\n",
            "spend    0.9997  1.0000  0.995  0.9997   1.0000   0.995\n",
            "conv     0.9940  0.9950  1.000  0.9940   0.9950   1.000\n",
            "lead_z   1.0000  0.9997  0.994  1.0000   0.9997   0.994\n",
            "spend_z  0.9997  1.0000  0.995  0.9997   1.0000   0.995\n",
            "conv_z   0.9940  0.9950  1.000  0.9940   0.9950   1.000\n",
            "\n",
            "Outlier row indices (any numeric column): [3]\n"
          ]
        }
      ],
      "source": [
        "import pandas as pd\n",
        "import numpy as np\n",
        "\n",
        "# Data\n",
        "df = pd.DataFrame({\n",
        "    'lead':  [10, 12, 13, 60, 14, 12],\n",
        "    'spend': [100,120,140,600,150,130],\n",
        "    'conv':  [  1,  1,  2,  9,   2,  1]\n",
        "})\n",
        "\n",
        "for col in df.columns:\n",
        "    std = df[col].std(ddof=0)\n",
        "    if std == 0:\n",
        "        df[col + '_z'] = 0\n",
        "    else:\n",
        "        df[col + '_z'] = (df[col] - df[col].mean()) / std\n",
        "\n",
        "\n",
        "print(\"Added z-score columns:\", [col + '_z' for col in df.columns])\n",
        "\n",
        "\n",
        "cor = df[df.columns].corr()\n",
        "print(\"\\n Correlation (numeric):\")\n",
        "print(cor.round(4))\n",
        "\n",
        "outlier_indices = set()\n",
        "\n",
        "for col in df.columns:\n",
        "    q1 = df[col].quantile(0.25)\n",
        "    q3 = df[col].quantile(0.75)\n",
        "    iqr = q3 - q1\n",
        "    lower_bound = q1 - 1.5 * iqr\n",
        "    upper_bound = q3 + 1.5 * iqr\n",
        "    outliers = df[(df[col] < lower_bound) | (df[col] > upper_bound)].index\n",
        "    outlier_indices.update(outliers)\n",
        "\n",
        "\n",
        "print(\"\\nOutlier row indices (any numeric column):\", sorted(outlier_indices))\n",
        "\n"
      ]
    },
    {
      "cell_type": "markdown",
      "id": "bbedf69f",
      "metadata": {
        "id": "bbedf69f"
      },
      "source": [
        "## Q6) Support Desk — SLA Claim (Decision-Only Hypothesis)\n",
        "**Scenario.** The support team claims **average first-response time = 30 minutes**.\n",
        "\n",
        "**Constraints**\n",
        "- Use the sample; treat as **two-sided** at 5% significance.\n",
        "- Print: sample mean, a suitable test statistic, p-value, and a plain decision (`Reject claim` or `Fail to reject claim`).\n",
        "\n",
        "**Data**\n",
        "```python\n",
        "import numpy as np\n",
        "frt = np.array([32, 27, 29, 31, 40, 22, 28, 27])\n",
        "```"
      ]
    },
    {
      "cell_type": "code",
      "execution_count": 56,
      "id": "7e1153bc",
      "metadata": {
        "colab": {
          "base_uri": "https://localhost:8080/"
        },
        "id": "7e1153bc",
        "outputId": "c3396df8-49d1-4e7c-e9e2-7a15a2e2314b"
      },
      "outputs": [
        {
          "output_type": "stream",
          "name": "stdout",
          "text": [
            "Sample mean: 29.5\n",
            "t-statistic: -0.2714\n",
            "p-value: 0.7939\n",
            "Decision: Fail to reject claim\n"
          ]
        }
      ],
      "source": [
        "import numpy as np\n",
        "from scipy import stats\n",
        "\n",
        "# Data\n",
        "frt = np.array([32, 27, 29, 31, 40, 22, 28, 27])\n",
        "claimed_mean = 30\n",
        "\n",
        "sample_mean = frt.mean()\n",
        "# print(sample_mean)\n",
        "\n",
        "t_stat, p_value = stats.ttest_1samp(frt, claimed_mean)\n",
        "# print(t_stat)\n",
        "# print(p_value)\n",
        "\n",
        "\n",
        "alpha = 0.05\n",
        "decision = \"Reject claim\" if p_value < alpha else \"Fail to reject claim\"\n",
        "\n",
        "print(\"Sample mean:\", round(sample_mean, 4))\n",
        "print(\"t-statistic:\", round(t_stat, 4))\n",
        "print(\"p-value:\", round(p_value, 4))\n",
        "print(\"Decision:\", decision)"
      ]
    }
  ],
  "metadata": {
    "language_info": {
      "name": "python"
    },
    "colab": {
      "provenance": [],
      "include_colab_link": true
    },
    "kernelspec": {
      "name": "python3",
      "display_name": "Python 3"
    }
  },
  "nbformat": 4,
  "nbformat_minor": 5
}